{
  "nbformat": 4,
  "nbformat_minor": 0,
  "metadata": {
    "colab": {
      "name": "Surat_18_11.ipynb",
      "provenance": []
    },
    "kernelspec": {
      "name": "python3",
      "display_name": "Python 3"
    },
    "language_info": {
      "name": "python"
    }
  },
  "cells": [
    {
      "cell_type": "code",
      "metadata": {
        "id": "PZjTs5RBAU73"
      },
      "source": [
        ""
      ],
      "execution_count": 18,
      "outputs": []
    },
    {
      "cell_type": "code",
      "metadata": {
        "id": "9ksIiA9reDf-"
      },
      "source": [
        "import pandas as pd"
      ],
      "execution_count": 19,
      "outputs": []
    },
    {
      "cell_type": "code",
      "metadata": {
        "id": "8_aoPiaYAV1u"
      },
      "source": [
        "# pip install --upgrade pandas"
      ],
      "execution_count": 20,
      "outputs": []
    },
    {
      "cell_type": "code",
      "metadata": {
        "colab": {
          "base_uri": "https://localhost:8080/",
          "height": 423
        },
        "id": "Ojw5FtjieaWw",
        "outputId": "a2ee52e1-f215-4184-b18e-9d727ad5bccc"
      },
      "source": [
        "df = pd.read_xml('/content/drive/MyDrive/datafile.xml')\n",
        "df"
      ],
      "execution_count": 21,
      "outputs": [
        {
          "output_type": "execute_result",
          "data": {
            "text/html": [
              "<div>\n",
              "<style scoped>\n",
              "    .dataframe tbody tr th:only-of-type {\n",
              "        vertical-align: middle;\n",
              "    }\n",
              "\n",
              "    .dataframe tbody tr th {\n",
              "        vertical-align: top;\n",
              "    }\n",
              "\n",
              "    .dataframe thead th {\n",
              "        text-align: right;\n",
              "    }\n",
              "</style>\n",
              "<table border=\"1\" class=\"dataframe\">\n",
              "  <thead>\n",
              "    <tr style=\"text-align: right;\">\n",
              "      <th></th>\n",
              "      <th>SR_NO</th>\n",
              "      <th>CITY</th>\n",
              "      <th>ZONE</th>\n",
              "      <th>AGE</th>\n",
              "      <th>GENDER</th>\n",
              "      <th>LATITUDE</th>\n",
              "      <th>LONGITUDE</th>\n",
              "      <th>RESULT</th>\n",
              "      <th>SAMPLE_RESULT</th>\n",
              "      <th>RESULTDATE</th>\n",
              "    </tr>\n",
              "  </thead>\n",
              "  <tbody>\n",
              "    <tr>\n",
              "      <th>0</th>\n",
              "      <td>1</td>\n",
              "      <td>Surat</td>\n",
              "      <td>South West Zone</td>\n",
              "      <td>21</td>\n",
              "      <td>F</td>\n",
              "      <td>21.169700</td>\n",
              "      <td>72.793300</td>\n",
              "      <td>Cured/Discharged</td>\n",
              "      <td>Positive</td>\n",
              "      <td>19/03/2020</td>\n",
              "    </tr>\n",
              "    <tr>\n",
              "      <th>1</th>\n",
              "      <td>2</td>\n",
              "      <td>Surat</td>\n",
              "      <td>Central Zone</td>\n",
              "      <td>67</td>\n",
              "      <td>M</td>\n",
              "      <td>21.186900</td>\n",
              "      <td>72.816000</td>\n",
              "      <td>Death</td>\n",
              "      <td>Positive</td>\n",
              "      <td>20/03/2020</td>\n",
              "    </tr>\n",
              "    <tr>\n",
              "      <th>2</th>\n",
              "      <td>3</td>\n",
              "      <td>Surat</td>\n",
              "      <td>East Zone  B</td>\n",
              "      <td>50</td>\n",
              "      <td>F</td>\n",
              "      <td>21.211302</td>\n",
              "      <td>72.868206</td>\n",
              "      <td>Cured/Discharged</td>\n",
              "      <td>Positive</td>\n",
              "      <td>10/06/2020</td>\n",
              "    </tr>\n",
              "    <tr>\n",
              "      <th>3</th>\n",
              "      <td>4</td>\n",
              "      <td>Surat</td>\n",
              "      <td>South Zone</td>\n",
              "      <td>26</td>\n",
              "      <td>M</td>\n",
              "      <td>21.139700</td>\n",
              "      <td>72.824100</td>\n",
              "      <td>Cured/Discharged</td>\n",
              "      <td>Positive</td>\n",
              "      <td>28/03/2020</td>\n",
              "    </tr>\n",
              "    <tr>\n",
              "      <th>4</th>\n",
              "      <td>5</td>\n",
              "      <td>Surat</td>\n",
              "      <td>West Zone</td>\n",
              "      <td>55</td>\n",
              "      <td>M</td>\n",
              "      <td>21.205612</td>\n",
              "      <td>72.804538</td>\n",
              "      <td>Cured/Discharged</td>\n",
              "      <td>Positive</td>\n",
              "      <td>11/06/2020</td>\n",
              "    </tr>\n",
              "    <tr>\n",
              "      <th>...</th>\n",
              "      <td>...</td>\n",
              "      <td>...</td>\n",
              "      <td>...</td>\n",
              "      <td>...</td>\n",
              "      <td>...</td>\n",
              "      <td>...</td>\n",
              "      <td>...</td>\n",
              "      <td>...</td>\n",
              "      <td>...</td>\n",
              "      <td>...</td>\n",
              "    </tr>\n",
              "    <tr>\n",
              "      <th>3586</th>\n",
              "      <td>3587</td>\n",
              "      <td>Surat</td>\n",
              "      <td>West Zone</td>\n",
              "      <td>62</td>\n",
              "      <td>F</td>\n",
              "      <td>21.194738</td>\n",
              "      <td>72.805488</td>\n",
              "      <td>Death</td>\n",
              "      <td>Positive</td>\n",
              "      <td>07/07/2020</td>\n",
              "    </tr>\n",
              "    <tr>\n",
              "      <th>3587</th>\n",
              "      <td>3588</td>\n",
              "      <td>Surat</td>\n",
              "      <td>Central Zone</td>\n",
              "      <td>63</td>\n",
              "      <td>M</td>\n",
              "      <td>21.195005</td>\n",
              "      <td>72.819476</td>\n",
              "      <td>Death</td>\n",
              "      <td>Positive</td>\n",
              "      <td>06/07/2020</td>\n",
              "    </tr>\n",
              "    <tr>\n",
              "      <th>3588</th>\n",
              "      <td>3589</td>\n",
              "      <td>Surat</td>\n",
              "      <td>South West Zone</td>\n",
              "      <td>82</td>\n",
              "      <td>M</td>\n",
              "      <td>21.147368</td>\n",
              "      <td>72.759609</td>\n",
              "      <td>Death</td>\n",
              "      <td>Positive</td>\n",
              "      <td>07/07/2020</td>\n",
              "    </tr>\n",
              "    <tr>\n",
              "      <th>3589</th>\n",
              "      <td>3590</td>\n",
              "      <td>Surat</td>\n",
              "      <td>South West Zone</td>\n",
              "      <td>47</td>\n",
              "      <td>M</td>\n",
              "      <td>21.159184</td>\n",
              "      <td>72.806529</td>\n",
              "      <td>Death</td>\n",
              "      <td>Positive</td>\n",
              "      <td>06/07/2020</td>\n",
              "    </tr>\n",
              "    <tr>\n",
              "      <th>3590</th>\n",
              "      <td>3591</td>\n",
              "      <td>Surat</td>\n",
              "      <td>Central Zone</td>\n",
              "      <td>42</td>\n",
              "      <td>F</td>\n",
              "      <td>21.207385</td>\n",
              "      <td>72.827242</td>\n",
              "      <td>Death</td>\n",
              "      <td>Positive</td>\n",
              "      <td>07/07/2020</td>\n",
              "    </tr>\n",
              "  </tbody>\n",
              "</table>\n",
              "<p>3591 rows × 10 columns</p>\n",
              "</div>"
            ],
            "text/plain": [
              "      SR_NO   CITY             ZONE  ...            RESULT SAMPLE_RESULT  RESULTDATE\n",
              "0         1  Surat  South West Zone  ...  Cured/Discharged      Positive  19/03/2020\n",
              "1         2  Surat     Central Zone  ...             Death      Positive  20/03/2020\n",
              "2         3  Surat     East Zone  B  ...  Cured/Discharged      Positive  10/06/2020\n",
              "3         4  Surat       South Zone  ...  Cured/Discharged      Positive  28/03/2020\n",
              "4         5  Surat        West Zone  ...  Cured/Discharged      Positive  11/06/2020\n",
              "...     ...    ...              ...  ...               ...           ...         ...\n",
              "3586   3587  Surat        West Zone  ...             Death      Positive  07/07/2020\n",
              "3587   3588  Surat     Central Zone  ...             Death      Positive  06/07/2020\n",
              "3588   3589  Surat  South West Zone  ...             Death      Positive  07/07/2020\n",
              "3589   3590  Surat  South West Zone  ...             Death      Positive  06/07/2020\n",
              "3590   3591  Surat     Central Zone  ...             Death      Positive  07/07/2020\n",
              "\n",
              "[3591 rows x 10 columns]"
            ]
          },
          "metadata": {},
          "execution_count": 21
        }
      ]
    },
    {
      "cell_type": "code",
      "metadata": {
        "colab": {
          "base_uri": "https://localhost:8080/"
        },
        "id": "lFRq1qB-oNiq",
        "outputId": "32afa9eb-6352-42fa-d020-2cbf070f8fa3"
      },
      "source": [
        "df.info()"
      ],
      "execution_count": 22,
      "outputs": [
        {
          "output_type": "stream",
          "name": "stdout",
          "text": [
            "<class 'pandas.core.frame.DataFrame'>\n",
            "RangeIndex: 3591 entries, 0 to 3590\n",
            "Data columns (total 10 columns):\n",
            " #   Column         Non-Null Count  Dtype  \n",
            "---  ------         --------------  -----  \n",
            " 0   SR_NO          3591 non-null   int64  \n",
            " 1   CITY           3591 non-null   object \n",
            " 2   ZONE           3582 non-null   object \n",
            " 3   AGE            3591 non-null   int64  \n",
            " 4   GENDER         3591 non-null   object \n",
            " 5   LATITUDE       3591 non-null   float64\n",
            " 6   LONGITUDE      3591 non-null   float64\n",
            " 7   RESULT         3591 non-null   object \n",
            " 8   SAMPLE_RESULT  3591 non-null   object \n",
            " 9   RESULTDATE     3591 non-null   object \n",
            "dtypes: float64(2), int64(2), object(6)\n",
            "memory usage: 280.7+ KB\n"
          ]
        }
      ]
    },
    {
      "cell_type": "code",
      "metadata": {
        "colab": {
          "base_uri": "https://localhost:8080/"
        },
        "id": "xPCEDy0thglc",
        "outputId": "ecf600df-a664-4885-9c91-7d61cbbf623d"
      },
      "source": [
        "df['SAMPLE_RESULT'].unique()"
      ],
      "execution_count": 23,
      "outputs": [
        {
          "output_type": "execute_result",
          "data": {
            "text/plain": [
              "array(['Positive'], dtype=object)"
            ]
          },
          "metadata": {},
          "execution_count": 23
        }
      ]
    },
    {
      "cell_type": "code",
      "metadata": {
        "colab": {
          "base_uri": "https://localhost:8080/"
        },
        "id": "DzZ24HIOhpE4",
        "outputId": "94e811e5-aee0-4ae3-805f-8cabfc799f30"
      },
      "source": [
        "df['RESULT'].unique()"
      ],
      "execution_count": 24,
      "outputs": [
        {
          "output_type": "execute_result",
          "data": {
            "text/plain": [
              "array(['Cured/Discharged', 'Death', 'Active'], dtype=object)"
            ]
          },
          "metadata": {},
          "execution_count": 24
        }
      ]
    },
    {
      "cell_type": "code",
      "metadata": {
        "colab": {
          "base_uri": "https://localhost:8080/"
        },
        "id": "aftl_oOmiZtN",
        "outputId": "31013377-0fee-4737-b843-6400ec471bdf"
      },
      "source": [
        "df_active = df[df.RESULT == 'Active']\n",
        "len(df_active)"
      ],
      "execution_count": 25,
      "outputs": [
        {
          "output_type": "execute_result",
          "data": {
            "text/plain": [
              "15"
            ]
          },
          "metadata": {},
          "execution_count": 25
        }
      ]
    },
    {
      "cell_type": "code",
      "metadata": {
        "colab": {
          "base_uri": "https://localhost:8080/",
          "height": 520
        },
        "id": "mEVu-Kh7iw4X",
        "outputId": "4d1796ae-10f6-4b49-d09b-e559a395e7cb"
      },
      "source": [
        "df_active"
      ],
      "execution_count": 26,
      "outputs": [
        {
          "output_type": "execute_result",
          "data": {
            "text/html": [
              "<div>\n",
              "<style scoped>\n",
              "    .dataframe tbody tr th:only-of-type {\n",
              "        vertical-align: middle;\n",
              "    }\n",
              "\n",
              "    .dataframe tbody tr th {\n",
              "        vertical-align: top;\n",
              "    }\n",
              "\n",
              "    .dataframe thead th {\n",
              "        text-align: right;\n",
              "    }\n",
              "</style>\n",
              "<table border=\"1\" class=\"dataframe\">\n",
              "  <thead>\n",
              "    <tr style=\"text-align: right;\">\n",
              "      <th></th>\n",
              "      <th>SR_NO</th>\n",
              "      <th>CITY</th>\n",
              "      <th>ZONE</th>\n",
              "      <th>AGE</th>\n",
              "      <th>GENDER</th>\n",
              "      <th>LATITUDE</th>\n",
              "      <th>LONGITUDE</th>\n",
              "      <th>RESULT</th>\n",
              "      <th>SAMPLE_RESULT</th>\n",
              "      <th>RESULTDATE</th>\n",
              "    </tr>\n",
              "  </thead>\n",
              "  <tbody>\n",
              "    <tr>\n",
              "      <th>510</th>\n",
              "      <td>511</td>\n",
              "      <td>Surat</td>\n",
              "      <td>South East Zone</td>\n",
              "      <td>25</td>\n",
              "      <td>M</td>\n",
              "      <td>21.179004</td>\n",
              "      <td>72.808405</td>\n",
              "      <td>Active</td>\n",
              "      <td>Positive</td>\n",
              "      <td>25/04/2020</td>\n",
              "    </tr>\n",
              "    <tr>\n",
              "      <th>537</th>\n",
              "      <td>538</td>\n",
              "      <td>Surat</td>\n",
              "      <td>South Zone</td>\n",
              "      <td>24</td>\n",
              "      <td>M</td>\n",
              "      <td>21.155138</td>\n",
              "      <td>72.829704</td>\n",
              "      <td>Active</td>\n",
              "      <td>Positive</td>\n",
              "      <td>26/04/2020</td>\n",
              "    </tr>\n",
              "    <tr>\n",
              "      <th>950</th>\n",
              "      <td>951</td>\n",
              "      <td>Surat</td>\n",
              "      <td>South East Zone</td>\n",
              "      <td>35</td>\n",
              "      <td>M</td>\n",
              "      <td>21.190477</td>\n",
              "      <td>72.849517</td>\n",
              "      <td>Active</td>\n",
              "      <td>Positive</td>\n",
              "      <td>13/05/2020</td>\n",
              "    </tr>\n",
              "    <tr>\n",
              "      <th>1110</th>\n",
              "      <td>1111</td>\n",
              "      <td>Out City</td>\n",
              "      <td>NaN</td>\n",
              "      <td>70</td>\n",
              "      <td>F</td>\n",
              "      <td>21.150554</td>\n",
              "      <td>72.802457</td>\n",
              "      <td>Active</td>\n",
              "      <td>Positive</td>\n",
              "      <td>18/05/2020</td>\n",
              "    </tr>\n",
              "    <tr>\n",
              "      <th>1163</th>\n",
              "      <td>1164</td>\n",
              "      <td>Out City</td>\n",
              "      <td>NaN</td>\n",
              "      <td>73</td>\n",
              "      <td>M</td>\n",
              "      <td>21.150554</td>\n",
              "      <td>72.802457</td>\n",
              "      <td>Active</td>\n",
              "      <td>Positive</td>\n",
              "      <td>19/05/2020</td>\n",
              "    </tr>\n",
              "    <tr>\n",
              "      <th>1165</th>\n",
              "      <td>1166</td>\n",
              "      <td>Surat</td>\n",
              "      <td>South Zone</td>\n",
              "      <td>41</td>\n",
              "      <td>M</td>\n",
              "      <td>21.153726</td>\n",
              "      <td>72.839782</td>\n",
              "      <td>Active</td>\n",
              "      <td>Positive</td>\n",
              "      <td>20/05/2020</td>\n",
              "    </tr>\n",
              "    <tr>\n",
              "      <th>1246</th>\n",
              "      <td>1247</td>\n",
              "      <td>Surat</td>\n",
              "      <td>South Zone</td>\n",
              "      <td>55</td>\n",
              "      <td>M</td>\n",
              "      <td>21.153215</td>\n",
              "      <td>72.826778</td>\n",
              "      <td>Active</td>\n",
              "      <td>Positive</td>\n",
              "      <td>24/05/2020</td>\n",
              "    </tr>\n",
              "    <tr>\n",
              "      <th>1360</th>\n",
              "      <td>1361</td>\n",
              "      <td>Surat</td>\n",
              "      <td>South West Zone</td>\n",
              "      <td>50</td>\n",
              "      <td>F</td>\n",
              "      <td>21.132690</td>\n",
              "      <td>72.742156</td>\n",
              "      <td>Active</td>\n",
              "      <td>Positive</td>\n",
              "      <td>24/05/2020</td>\n",
              "    </tr>\n",
              "    <tr>\n",
              "      <th>1519</th>\n",
              "      <td>1520</td>\n",
              "      <td>Out City</td>\n",
              "      <td>NaN</td>\n",
              "      <td>72</td>\n",
              "      <td>M</td>\n",
              "      <td>21.221749</td>\n",
              "      <td>72.783043</td>\n",
              "      <td>Active</td>\n",
              "      <td>Positive</td>\n",
              "      <td>28/05/2020</td>\n",
              "    </tr>\n",
              "    <tr>\n",
              "      <th>1529</th>\n",
              "      <td>1530</td>\n",
              "      <td>Out City</td>\n",
              "      <td>NaN</td>\n",
              "      <td>56</td>\n",
              "      <td>F</td>\n",
              "      <td>21.157700</td>\n",
              "      <td>72.776840</td>\n",
              "      <td>Active</td>\n",
              "      <td>Positive</td>\n",
              "      <td>28/05/2020</td>\n",
              "    </tr>\n",
              "    <tr>\n",
              "      <th>1593</th>\n",
              "      <td>1594</td>\n",
              "      <td>Out City</td>\n",
              "      <td>NaN</td>\n",
              "      <td>53</td>\n",
              "      <td>F</td>\n",
              "      <td>21.156315</td>\n",
              "      <td>72.766301</td>\n",
              "      <td>Active</td>\n",
              "      <td>Positive</td>\n",
              "      <td>30/05/2020</td>\n",
              "    </tr>\n",
              "    <tr>\n",
              "      <th>2326</th>\n",
              "      <td>2327</td>\n",
              "      <td>Surat</td>\n",
              "      <td>South Zone</td>\n",
              "      <td>63</td>\n",
              "      <td>M</td>\n",
              "      <td>21.122314</td>\n",
              "      <td>72.849148</td>\n",
              "      <td>Active</td>\n",
              "      <td>Positive</td>\n",
              "      <td>10/06/2020</td>\n",
              "    </tr>\n",
              "    <tr>\n",
              "      <th>2484</th>\n",
              "      <td>2485</td>\n",
              "      <td>Out City</td>\n",
              "      <td>NaN</td>\n",
              "      <td>41</td>\n",
              "      <td>M</td>\n",
              "      <td>21.290790</td>\n",
              "      <td>72.900100</td>\n",
              "      <td>Active</td>\n",
              "      <td>Positive</td>\n",
              "      <td>13/06/2020</td>\n",
              "    </tr>\n",
              "    <tr>\n",
              "      <th>2608</th>\n",
              "      <td>2609</td>\n",
              "      <td>Surat</td>\n",
              "      <td>North Zone</td>\n",
              "      <td>61</td>\n",
              "      <td>M</td>\n",
              "      <td>21.236675</td>\n",
              "      <td>72.835033</td>\n",
              "      <td>Active</td>\n",
              "      <td>Positive</td>\n",
              "      <td>14/06/2020</td>\n",
              "    </tr>\n",
              "    <tr>\n",
              "      <th>2747</th>\n",
              "      <td>2748</td>\n",
              "      <td>Out City</td>\n",
              "      <td>NaN</td>\n",
              "      <td>3</td>\n",
              "      <td>F</td>\n",
              "      <td>21.134887</td>\n",
              "      <td>72.765938</td>\n",
              "      <td>Active</td>\n",
              "      <td>Positive</td>\n",
              "      <td>16/06/2020</td>\n",
              "    </tr>\n",
              "  </tbody>\n",
              "</table>\n",
              "</div>"
            ],
            "text/plain": [
              "      SR_NO      CITY             ZONE  ...  RESULT SAMPLE_RESULT  RESULTDATE\n",
              "510     511     Surat  South East Zone  ...  Active      Positive  25/04/2020\n",
              "537     538     Surat       South Zone  ...  Active      Positive  26/04/2020\n",
              "950     951     Surat  South East Zone  ...  Active      Positive  13/05/2020\n",
              "1110   1111  Out City              NaN  ...  Active      Positive  18/05/2020\n",
              "1163   1164  Out City              NaN  ...  Active      Positive  19/05/2020\n",
              "1165   1166     Surat       South Zone  ...  Active      Positive  20/05/2020\n",
              "1246   1247     Surat       South Zone  ...  Active      Positive  24/05/2020\n",
              "1360   1361     Surat  South West Zone  ...  Active      Positive  24/05/2020\n",
              "1519   1520  Out City              NaN  ...  Active      Positive  28/05/2020\n",
              "1529   1530  Out City              NaN  ...  Active      Positive  28/05/2020\n",
              "1593   1594  Out City              NaN  ...  Active      Positive  30/05/2020\n",
              "2326   2327     Surat       South Zone  ...  Active      Positive  10/06/2020\n",
              "2484   2485  Out City              NaN  ...  Active      Positive  13/06/2020\n",
              "2608   2609     Surat       North Zone  ...  Active      Positive  14/06/2020\n",
              "2747   2748  Out City              NaN  ...  Active      Positive  16/06/2020\n",
              "\n",
              "[15 rows x 10 columns]"
            ]
          },
          "metadata": {},
          "execution_count": 26
        }
      ]
    },
    {
      "cell_type": "code",
      "metadata": {
        "colab": {
          "base_uri": "https://localhost:8080/"
        },
        "id": "LoaAqcg8h6Yk",
        "outputId": "6e2b412f-ffd9-4572-9b68-65dcd7622663"
      },
      "source": [
        "Active_df = df['SAMPLE_RESULT'] == 'Active'\n",
        "Active_df"
      ],
      "execution_count": 27,
      "outputs": [
        {
          "output_type": "execute_result",
          "data": {
            "text/plain": [
              "0       False\n",
              "1       False\n",
              "2       False\n",
              "3       False\n",
              "4       False\n",
              "        ...  \n",
              "3586    False\n",
              "3587    False\n",
              "3588    False\n",
              "3589    False\n",
              "3590    False\n",
              "Name: SAMPLE_RESULT, Length: 3591, dtype: bool"
            ]
          },
          "metadata": {},
          "execution_count": 27
        }
      ]
    },
    {
      "cell_type": "code",
      "metadata": {
        "id": "KTNTzrr0MQGf"
      },
      "source": [
        ""
      ],
      "execution_count": 27,
      "outputs": []
    },
    {
      "cell_type": "code",
      "metadata": {
        "colab": {
          "base_uri": "https://localhost:8080/",
          "height": 283
        },
        "id": "hqA3E1CXgUxZ",
        "outputId": "5b881720-f6b4-4f5b-c608-b38ceca342ba"
      },
      "source": [
        "import matplotlib.pyplot as plt\n",
        "plt.scatter(df_active['LATITUDE'],df_active['LONGITUDE'])"
      ],
      "execution_count": 28,
      "outputs": [
        {
          "output_type": "execute_result",
          "data": {
            "text/plain": [
              "<matplotlib.collections.PathCollection at 0x7f17342e9c10>"
            ]
          },
          "metadata": {},
          "execution_count": 28
        },
        {
          "output_type": "display_data",
          "data": {
            "image/png": "[encoded data removed]",
            "text/plain": [
              "<Figure size 432x288 with 1 Axes>"
            ]
          },
          "metadata": {
            "needs_background": "light"
          }
        }
      ]
    },
    {
      "cell_type": "code",
      "metadata": {
        "id": "twetOb0WkXIc"
      },
      "source": [
        "from sklearn.cluster import DBSCAN"
      ],
      "execution_count": 29,
      "outputs": []
    },
    {
      "cell_type": "code",
      "metadata": {
        "id": "SAbm3rFskaJ5"
      },
      "source": [
        "db = DBSCAN(eps = 0.02, min_samples= 1)"
      ],
      "execution_count": 60,
      "outputs": []
    },
    {
      "cell_type": "code",
      "metadata": {
        "colab": {
          "base_uri": "https://localhost:8080/"
        },
        "id": "90ihgjSRkdhY",
        "outputId": "3daa9a9e-b723-4f1c-b937-f4a9f1ad50f4"
      },
      "source": [
        "ypredict = db.fit_predict(df_active[['LATITUDE','LONGITUDE']])\n",
        "ypredict"
      ],
      "execution_count": 61,
      "outputs": [
        {
          "output_type": "execute_result",
          "data": {
            "text/plain": [
              "array([ 0,  1,  2,  3,  3,  1,  1,  4,  5,  6,  6,  7,  8,  9, 10])"
            ]
          },
          "metadata": {},
          "execution_count": 61
        }
      ]
    },
    {
      "cell_type": "code",
      "metadata": {
        "colab": {
          "base_uri": "https://localhost:8080/",
          "height": 630
        },
        "id": "F9DjJx1ik9JT",
        "outputId": "3a07471e-1d13-45b4-e430-0e0e30a61116"
      },
      "source": [
        "df_active['group'] = ypredict\n",
        "df_active"
      ],
      "execution_count": 62,
      "outputs": [
        {
          "output_type": "stream",
          "name": "stderr",
          "text": [
            "/usr/local/lib/python3.7/dist-packages/ipykernel_launcher.py:1: SettingWithCopyWarning: \n",
            "A value is trying to be set on a copy of a slice from a DataFrame.\n",
            "Try using .loc[row_indexer,col_indexer] = value instead\n",
            "\n",
            "See the caveats in the documentation: https://pandas.pydata.org/pandas-docs/stable/user_guide/indexing.html#returning-a-view-versus-a-copy\n",
            "  \"\"\"Entry point for launching an IPython kernel.\n"
          ]
        },
        {
          "output_type": "execute_result",
          "data": {
            "text/html": [
              "<div>\n",
              "<style scoped>\n",
              "    .dataframe tbody tr th:only-of-type {\n",
              "        vertical-align: middle;\n",
              "    }\n",
              "\n",
              "    .dataframe tbody tr th {\n",
              "        vertical-align: top;\n",
              "    }\n",
              "\n",
              "    .dataframe thead th {\n",
              "        text-align: right;\n",
              "    }\n",
              "</style>\n",
              "<table border=\"1\" class=\"dataframe\">\n",
              "  <thead>\n",
              "    <tr style=\"text-align: right;\">\n",
              "      <th></th>\n",
              "      <th>SR_NO</th>\n",
              "      <th>CITY</th>\n",
              "      <th>ZONE</th>\n",
              "      <th>AGE</th>\n",
              "      <th>GENDER</th>\n",
              "      <th>LATITUDE</th>\n",
              "      <th>LONGITUDE</th>\n",
              "      <th>RESULT</th>\n",
              "      <th>SAMPLE_RESULT</th>\n",
              "      <th>RESULTDATE</th>\n",
              "      <th>group</th>\n",
              "    </tr>\n",
              "  </thead>\n",
              "  <tbody>\n",
              "    <tr>\n",
              "      <th>510</th>\n",
              "      <td>511</td>\n",
              "      <td>Surat</td>\n",
              "      <td>South East Zone</td>\n",
              "      <td>25</td>\n",
              "      <td>M</td>\n",
              "      <td>21.179004</td>\n",
              "      <td>72.808405</td>\n",
              "      <td>Active</td>\n",
              "      <td>Positive</td>\n",
              "      <td>25/04/2020</td>\n",
              "      <td>0</td>\n",
              "    </tr>\n",
              "    <tr>\n",
              "      <th>537</th>\n",
              "      <td>538</td>\n",
              "      <td>Surat</td>\n",
              "      <td>South Zone</td>\n",
              "      <td>24</td>\n",
              "      <td>M</td>\n",
              "      <td>21.155138</td>\n",
              "      <td>72.829704</td>\n",
              "      <td>Active</td>\n",
              "      <td>Positive</td>\n",
              "      <td>26/04/2020</td>\n",
              "      <td>1</td>\n",
              "    </tr>\n",
              "    <tr>\n",
              "      <th>950</th>\n",
              "      <td>951</td>\n",
              "      <td>Surat</td>\n",
              "      <td>South East Zone</td>\n",
              "      <td>35</td>\n",
              "      <td>M</td>\n",
              "      <td>21.190477</td>\n",
              "      <td>72.849517</td>\n",
              "      <td>Active</td>\n",
              "      <td>Positive</td>\n",
              "      <td>13/05/2020</td>\n",
              "      <td>2</td>\n",
              "    </tr>\n",
              "    <tr>\n",
              "      <th>1110</th>\n",
              "      <td>1111</td>\n",
              "      <td>Out City</td>\n",
              "      <td>NaN</td>\n",
              "      <td>70</td>\n",
              "      <td>F</td>\n",
              "      <td>21.150554</td>\n",
              "      <td>72.802457</td>\n",
              "      <td>Active</td>\n",
              "      <td>Positive</td>\n",
              "      <td>18/05/2020</td>\n",
              "      <td>3</td>\n",
              "    </tr>\n",
              "    <tr>\n",
              "      <th>1163</th>\n",
              "      <td>1164</td>\n",
              "      <td>Out City</td>\n",
              "      <td>NaN</td>\n",
              "      <td>73</td>\n",
              "      <td>M</td>\n",
              "      <td>21.150554</td>\n",
              "      <td>72.802457</td>\n",
              "      <td>Active</td>\n",
              "      <td>Positive</td>\n",
              "      <td>19/05/2020</td>\n",
              "      <td>3</td>\n",
              "    </tr>\n",
              "    <tr>\n",
              "      <th>1165</th>\n",
              "      <td>1166</td>\n",
              "      <td>Surat</td>\n",
              "      <td>South Zone</td>\n",
              "      <td>41</td>\n",
              "      <td>M</td>\n",
              "      <td>21.153726</td>\n",
              "      <td>72.839782</td>\n",
              "      <td>Active</td>\n",
              "      <td>Positive</td>\n",
              "      <td>20/05/2020</td>\n",
              "      <td>1</td>\n",
              "    </tr>\n",
              "    <tr>\n",
              "      <th>1246</th>\n",
              "      <td>1247</td>\n",
              "      <td>Surat</td>\n",
              "      <td>South Zone</td>\n",
              "      <td>55</td>\n",
              "      <td>M</td>\n",
              "      <td>21.153215</td>\n",
              "      <td>72.826778</td>\n",
              "      <td>Active</td>\n",
              "      <td>Positive</td>\n",
              "      <td>24/05/2020</td>\n",
              "      <td>1</td>\n",
              "    </tr>\n",
              "    <tr>\n",
              "      <th>1360</th>\n",
              "      <td>1361</td>\n",
              "      <td>Surat</td>\n",
              "      <td>South West Zone</td>\n",
              "      <td>50</td>\n",
              "      <td>F</td>\n",
              "      <td>21.132690</td>\n",
              "      <td>72.742156</td>\n",
              "      <td>Active</td>\n",
              "      <td>Positive</td>\n",
              "      <td>24/05/2020</td>\n",
              "      <td>4</td>\n",
              "    </tr>\n",
              "    <tr>\n",
              "      <th>1519</th>\n",
              "      <td>1520</td>\n",
              "      <td>Out City</td>\n",
              "      <td>NaN</td>\n",
              "      <td>72</td>\n",
              "      <td>M</td>\n",
              "      <td>21.221749</td>\n",
              "      <td>72.783043</td>\n",
              "      <td>Active</td>\n",
              "      <td>Positive</td>\n",
              "      <td>28/05/2020</td>\n",
              "      <td>5</td>\n",
              "    </tr>\n",
              "    <tr>\n",
              "      <th>1529</th>\n",
              "      <td>1530</td>\n",
              "      <td>Out City</td>\n",
              "      <td>NaN</td>\n",
              "      <td>56</td>\n",
              "      <td>F</td>\n",
              "      <td>21.157700</td>\n",
              "      <td>72.776840</td>\n",
              "      <td>Active</td>\n",
              "      <td>Positive</td>\n",
              "      <td>28/05/2020</td>\n",
              "      <td>6</td>\n",
              "    </tr>\n",
              "    <tr>\n",
              "      <th>1593</th>\n",
              "      <td>1594</td>\n",
              "      <td>Out City</td>\n",
              "      <td>NaN</td>\n",
              "      <td>53</td>\n",
              "      <td>F</td>\n",
              "      <td>21.156315</td>\n",
              "      <td>72.766301</td>\n",
              "      <td>Active</td>\n",
              "      <td>Positive</td>\n",
              "      <td>30/05/2020</td>\n",
              "      <td>6</td>\n",
              "    </tr>\n",
              "    <tr>\n",
              "      <th>2326</th>\n",
              "      <td>2327</td>\n",
              "      <td>Surat</td>\n",
              "      <td>South Zone</td>\n",
              "      <td>63</td>\n",
              "      <td>M</td>\n",
              "      <td>21.122314</td>\n",
              "      <td>72.849148</td>\n",
              "      <td>Active</td>\n",
              "      <td>Positive</td>\n",
              "      <td>10/06/2020</td>\n",
              "      <td>7</td>\n",
              "    </tr>\n",
              "    <tr>\n",
              "      <th>2484</th>\n",
              "      <td>2485</td>\n",
              "      <td>Out City</td>\n",
              "      <td>NaN</td>\n",
              "      <td>41</td>\n",
              "      <td>M</td>\n",
              "      <td>21.290790</td>\n",
              "      <td>72.900100</td>\n",
              "      <td>Active</td>\n",
              "      <td>Positive</td>\n",
              "      <td>13/06/2020</td>\n",
              "      <td>8</td>\n",
              "    </tr>\n",
              "    <tr>\n",
              "      <th>2608</th>\n",
              "      <td>2609</td>\n",
              "      <td>Surat</td>\n",
              "      <td>North Zone</td>\n",
              "      <td>61</td>\n",
              "      <td>M</td>\n",
              "      <td>21.236675</td>\n",
              "      <td>72.835033</td>\n",
              "      <td>Active</td>\n",
              "      <td>Positive</td>\n",
              "      <td>14/06/2020</td>\n",
              "      <td>9</td>\n",
              "    </tr>\n",
              "    <tr>\n",
              "      <th>2747</th>\n",
              "      <td>2748</td>\n",
              "      <td>Out City</td>\n",
              "      <td>NaN</td>\n",
              "      <td>3</td>\n",
              "      <td>F</td>\n",
              "      <td>21.134887</td>\n",
              "      <td>72.765938</td>\n",
              "      <td>Active</td>\n",
              "      <td>Positive</td>\n",
              "      <td>16/06/2020</td>\n",
              "      <td>10</td>\n",
              "    </tr>\n",
              "  </tbody>\n",
              "</table>\n",
              "</div>"
            ],
            "text/plain": [
              "      SR_NO      CITY             ZONE  ...  SAMPLE_RESULT  RESULTDATE  group\n",
              "510     511     Surat  South East Zone  ...       Positive  25/04/2020      0\n",
              "537     538     Surat       South Zone  ...       Positive  26/04/2020      1\n",
              "950     951     Surat  South East Zone  ...       Positive  13/05/2020      2\n",
              "1110   1111  Out City              NaN  ...       Positive  18/05/2020      3\n",
              "1163   1164  Out City              NaN  ...       Positive  19/05/2020      3\n",
              "1165   1166     Surat       South Zone  ...       Positive  20/05/2020      1\n",
              "1246   1247     Surat       South Zone  ...       Positive  24/05/2020      1\n",
              "1360   1361     Surat  South West Zone  ...       Positive  24/05/2020      4\n",
              "1519   1520  Out City              NaN  ...       Positive  28/05/2020      5\n",
              "1529   1530  Out City              NaN  ...       Positive  28/05/2020      6\n",
              "1593   1594  Out City              NaN  ...       Positive  30/05/2020      6\n",
              "2326   2327     Surat       South Zone  ...       Positive  10/06/2020      7\n",
              "2484   2485  Out City              NaN  ...       Positive  13/06/2020      8\n",
              "2608   2609     Surat       North Zone  ...       Positive  14/06/2020      9\n",
              "2747   2748  Out City              NaN  ...       Positive  16/06/2020     10\n",
              "\n",
              "[15 rows x 11 columns]"
            ]
          },
          "metadata": {},
          "execution_count": 62
        }
      ]
    },
    {
      "cell_type": "code",
      "metadata": {
        "colab": {
          "base_uri": "https://localhost:8080/",
          "height": 302
        },
        "id": "VO7MjGUgle5Z",
        "outputId": "24107c20-9e75-41b3-c75e-162ad8d2b585"
      },
      "source": [
        "df0 = df_active[df_active.group ==0]\n",
        "df1 = df_active[df_active.group ==1]\n",
        "df2 = df_active[df_active.group ==2]\n",
        "df3 = df_active[df_active.group ==3]\n",
        "df4 = df_active[df_active.group ==4]\n",
        "df5 = df_active[df_active.group ==5]\n",
        "df6 = df_active[df_active.group ==6]\n",
        "df7 = df_active[df_active.group ==7]\n",
        "df8 = df_active[df_active.group ==8]\n",
        "df9 = df_active[df_active.group ==9]\n",
        "df10 = df_active[df_active.group ==10]\n",
        "plt.scatter(df0['LATITUDE'],df0['LONGITUDE'], color = 'green')\n",
        "plt.scatter(df1['LATITUDE'],df1['LONGITUDE'], color = 'red')\n",
        "plt.scatter(df2['LATITUDE'],df2['LONGITUDE'], color = 'yellow')\n",
        "plt.scatter(df3['LATITUDE'],df3['LONGITUDE'], color = 'blue')\n",
        "plt.scatter(df4['LATITUDE'],df4['LONGITUDE'], color = 'black')\n",
        "plt.scatter(df5['LATITUDE'],df5['LONGITUDE'], color = 'grey')\n",
        "plt.scatter(df6['LATITUDE'],df6['LONGITUDE'], color = 'orange')\n",
        "plt.scatter(df7['LATITUDE'],df7['LONGITUDE'], color = 'purple')\n",
        "plt.scatter(df8['LATITUDE'],df8['LONGITUDE'], color = 'pink')\n",
        "plt.scatter(df9['LATITUDE'],df9['LONGITUDE'], color = 'purple')\n",
        "plt.scatter(df10['LATITUDE'],df10['LONGITUDE'], color = 'pink')\n",
        "plt.legend()"
      ],
      "execution_count": 63,
      "outputs": [
        {
          "output_type": "stream",
          "name": "stderr",
          "text": [
            "No handles with labels found to put in legend.\n"
          ]
        },
        {
          "output_type": "execute_result",
          "data": {
            "text/plain": [
              "<matplotlib.legend.Legend at 0x7f1733fb3e50>"
            ]
          },
          "metadata": {},
          "execution_count": 63
        },
        {
          "output_type": "display_data",
          "data": {
            "image/png": "[encoded data removed]",
            "text/plain": [
              "<Figure size 432x288 with 1 Axes>"
            ]
          },
          "metadata": {
            "needs_background": "light"
          }
        }
      ]
    },
    {
      "cell_type": "code",
      "metadata": {
        "id": "iN26uXDrvUiv"
      },
      "source": [
        "import numpy as np"
      ],
      "execution_count": 64,
      "outputs": []
    },
    {
      "cell_type": "code",
      "metadata": {
        "id": "SPuJ8vaWn7ul"
      },
      "source": [
        "# clusterCount = np.bincount(ypredict)\n",
        "# clusterCount"
      ],
      "execution_count": 65,
      "outputs": []
    },
    {
      "cell_type": "code",
      "metadata": {
        "id": "DGJ8IBcsxwWh"
      },
      "source": [
        "# clusterCount.max()"
      ],
      "execution_count": 66,
      "outputs": []
    },
    {
      "cell_type": "code",
      "metadata": {
        "id": "QeksvC4f1TwX"
      },
      "source": [
        "from sklearn.neighbors import NearestNeighbors"
      ],
      "execution_count": 67,
      "outputs": []
    },
    {
      "cell_type": "code",
      "metadata": {
        "id": "SwHnP5Kt4klZ"
      },
      "source": [
        "x = df_active['LATITUDE'], df_active['LONGITUDE']"
      ],
      "execution_count": 68,
      "outputs": []
    },
    {
      "cell_type": "code",
      "metadata": {
        "colab": {
          "base_uri": "https://localhost:8080/",
          "height": 520
        },
        "id": "Qt89LJx56JpE",
        "outputId": "2f30d13b-cb9f-4d31-bb10-cb6b2ee92057"
      },
      "source": [
        "x = pd.concat([df_active[\"LATITUDE\"], df_active[\"LONGITUDE\"]], axis =1, keys=['LATITUDE','LONGITUDE'])\n",
        "x"
      ],
      "execution_count": 69,
      "outputs": [
        {
          "output_type": "execute_result",
          "data": {
            "text/html": [
              "<div>\n",
              "<style scoped>\n",
              "    .dataframe tbody tr th:only-of-type {\n",
              "        vertical-align: middle;\n",
              "    }\n",
              "\n",
              "    .dataframe tbody tr th {\n",
              "        vertical-align: top;\n",
              "    }\n",
              "\n",
              "    .dataframe thead th {\n",
              "        text-align: right;\n",
              "    }\n",
              "</style>\n",
              "<table border=\"1\" class=\"dataframe\">\n",
              "  <thead>\n",
              "    <tr style=\"text-align: right;\">\n",
              "      <th></th>\n",
              "      <th>LATITUDE</th>\n",
              "      <th>LONGITUDE</th>\n",
              "    </tr>\n",
              "  </thead>\n",
              "  <tbody>\n",
              "    <tr>\n",
              "      <th>510</th>\n",
              "      <td>21.179004</td>\n",
              "      <td>72.808405</td>\n",
              "    </tr>\n",
              "    <tr>\n",
              "      <th>537</th>\n",
              "      <td>21.155138</td>\n",
              "      <td>72.829704</td>\n",
              "    </tr>\n",
              "    <tr>\n",
              "      <th>950</th>\n",
              "      <td>21.190477</td>\n",
              "      <td>72.849517</td>\n",
              "    </tr>\n",
              "    <tr>\n",
              "      <th>1110</th>\n",
              "      <td>21.150554</td>\n",
              "      <td>72.802457</td>\n",
              "    </tr>\n",
              "    <tr>\n",
              "      <th>1163</th>\n",
              "      <td>21.150554</td>\n",
              "      <td>72.802457</td>\n",
              "    </tr>\n",
              "    <tr>\n",
              "      <th>1165</th>\n",
              "      <td>21.153726</td>\n",
              "      <td>72.839782</td>\n",
              "    </tr>\n",
              "    <tr>\n",
              "      <th>1246</th>\n",
              "      <td>21.153215</td>\n",
              "      <td>72.826778</td>\n",
              "    </tr>\n",
              "    <tr>\n",
              "      <th>1360</th>\n",
              "      <td>21.132690</td>\n",
              "      <td>72.742156</td>\n",
              "    </tr>\n",
              "    <tr>\n",
              "      <th>1519</th>\n",
              "      <td>21.221749</td>\n",
              "      <td>72.783043</td>\n",
              "    </tr>\n",
              "    <tr>\n",
              "      <th>1529</th>\n",
              "      <td>21.157700</td>\n",
              "      <td>72.776840</td>\n",
              "    </tr>\n",
              "    <tr>\n",
              "      <th>1593</th>\n",
              "      <td>21.156315</td>\n",
              "      <td>72.766301</td>\n",
              "    </tr>\n",
              "    <tr>\n",
              "      <th>2326</th>\n",
              "      <td>21.122314</td>\n",
              "      <td>72.849148</td>\n",
              "    </tr>\n",
              "    <tr>\n",
              "      <th>2484</th>\n",
              "      <td>21.290790</td>\n",
              "      <td>72.900100</td>\n",
              "    </tr>\n",
              "    <tr>\n",
              "      <th>2608</th>\n",
              "      <td>21.236675</td>\n",
              "      <td>72.835033</td>\n",
              "    </tr>\n",
              "    <tr>\n",
              "      <th>2747</th>\n",
              "      <td>21.134887</td>\n",
              "      <td>72.765938</td>\n",
              "    </tr>\n",
              "  </tbody>\n",
              "</table>\n",
              "</div>"
            ],
            "text/plain": [
              "       LATITUDE  LONGITUDE\n",
              "510   21.179004  72.808405\n",
              "537   21.155138  72.829704\n",
              "950   21.190477  72.849517\n",
              "1110  21.150554  72.802457\n",
              "1163  21.150554  72.802457\n",
              "1165  21.153726  72.839782\n",
              "1246  21.153215  72.826778\n",
              "1360  21.132690  72.742156\n",
              "1519  21.221749  72.783043\n",
              "1529  21.157700  72.776840\n",
              "1593  21.156315  72.766301\n",
              "2326  21.122314  72.849148\n",
              "2484  21.290790  72.900100\n",
              "2608  21.236675  72.835033\n",
              "2747  21.134887  72.765938"
            ]
          },
          "metadata": {},
          "execution_count": 69
        }
      ]
    },
    {
      "cell_type": "code",
      "metadata": {
        "id": "IVwmgYjD4WZ9"
      },
      "source": [
        "# neighbors = NearestNeighbors(n_neighbors=1)\n",
        "# neighbors_fit = neighbors.fit(x)\n",
        "# distances, indices = neighbors_fit.kneighbors(x)"
      ],
      "execution_count": 70,
      "outputs": []
    },
    {
      "cell_type": "code",
      "metadata": {
        "id": "b-mwobEO41EE"
      },
      "source": [
        "# distances = np.sort(distances, axis=0)\n",
        "# distances = distances[:,1]\n",
        "# plt.plot(distances)"
      ],
      "execution_count": 71,
      "outputs": []
    },
    {
      "cell_type": "code",
      "metadata": {
        "id": "QQIadOzn7Cge"
      },
      "source": [
        "neigh = NearestNeighbors(n_neighbors=2)\n",
        "nbrs = neigh.fit(x)\n",
        "distances, indices = nbrs.kneighbors(x)"
      ],
      "execution_count": 76,
      "outputs": []
    },
    {
      "cell_type": "code",
      "metadata": {
        "colab": {
          "base_uri": "https://localhost:8080/",
          "height": 283
        },
        "id": "QnjQBfsmCxnY",
        "outputId": "96a7356e-b6cd-4840-d3fd-965416ec250f"
      },
      "source": [
        "distances = np.sort(distances, axis=0)\n",
        "distances = distances[:,1]\n",
        "plt.plot(distances)"
      ],
      "execution_count": 77,
      "outputs": [
        {
          "output_type": "execute_result",
          "data": {
            "text/plain": [
              "[<matplotlib.lines.Line2D at 0x7f1733f27e90>]"
            ]
          },
          "metadata": {},
          "execution_count": 77
        },
        {
          "output_type": "display_data",
          "data": {
            "image/png": "[encoded data removed]",
            "text/plain": [
              "<Figure size 432x288 with 1 Axes>"
            ]
          },
          "metadata": {
            "needs_background": "light"
          }
        }
      ]
    },
    {
      "cell_type": "code",
      "metadata": {
        "id": "AxT134R_7TOe"
      },
      "source": [
        "# distances = np.sort(distances, axis=0)\n",
        "# distances = distances[:,1]\n",
        "# plt.plot([0,14],[distances[0], distances[14]])\n",
        "# plt.plot(distances)"
      ],
      "execution_count": 78,
      "outputs": []
    },
    {
      "cell_type": "code",
      "metadata": {
        "id": "mBdJKWpN9QUy"
      },
      "source": [
        "# distances"
      ],
      "execution_count": 79,
      "outputs": []
    },
    {
      "cell_type": "code",
      "metadata": {
        "id": "c46hkMHS8hBV"
      },
      "source": [
        "# import math\n",
        "# def calc_distance(x1,y1,a,b,c):\n",
        "#   d= abs((a*x1+b*y1+c))/ (math.sqrt(a*a+b*b))\n",
        "#   return d"
      ],
      "execution_count": 80,
      "outputs": []
    },
    {
      "cell_type": "code",
      "metadata": {
        "id": "4VM4oSqIAMYJ"
      },
      "source": [
        "# K = range(0,15)"
      ],
      "execution_count": 81,
      "outputs": []
    },
    {
      "cell_type": "code",
      "metadata": {
        "id": "i7EYzSzUAKZw"
      },
      "source": [
        "# a = distances[0] -  distances[14]\n",
        "# b = K[10]-K[0]\n",
        "# c1 = K[0] * distances[14]\n",
        "# c2 = K[14] * distances[0]\n",
        "# c = c1-c2"
      ],
      "execution_count": 82,
      "outputs": []
    },
    {
      "cell_type": "code",
      "metadata": {
        "id": "bByP6lQ6AgfW"
      },
      "source": [
        "# Dist =[]\n",
        "\n",
        "# for k in range(15):\n",
        "#   Dist.append(calc_distance(K[k],distances[k],a,b,c))"
      ],
      "execution_count": 83,
      "outputs": []
    },
    {
      "cell_type": "code",
      "metadata": {
        "id": "G33ht9XiAwPQ"
      },
      "source": [
        "# plt.plot(K,Dist)"
      ],
      "execution_count": 84,
      "outputs": []
    },
    {
      "cell_type": "code",
      "metadata": {
        "id": "VPQQKgyCL9lA"
      },
      "source": [
        "# plt.scatter(df['LATITUDE'],df['LONGITUDE'])"
      ],
      "execution_count": 85,
      "outputs": []
    },
    {
      "cell_type": "markdown",
      "metadata": {
        "id": "epBDBc8hi8kb"
      },
      "source": [
        "<h1> Part 2 <h1>"
      ]
    },
    {
      "cell_type": "code",
      "metadata": {
        "id": "PyQox06MQyaV"
      },
      "source": [
        "x1 = pd.concat([df[\"LATITUDE\"], df[\"LONGITUDE\"]], axis =1, keys=['LATITUDE','LONGITUDE'])"
      ],
      "execution_count": 90,
      "outputs": []
    },
    {
      "cell_type": "code",
      "metadata": {
        "id": "XZb7fXYaQxjz"
      },
      "source": [
        "neigh = NearestNeighbors(n_neighbors=50)\n",
        "nbrs = neigh.fit(x1)\n",
        "distances, indices = nbrs.kneighbors(x1)"
      ],
      "execution_count": 91,
      "outputs": []
    },
    {
      "cell_type": "code",
      "metadata": {
        "colab": {
          "base_uri": "https://localhost:8080/"
        },
        "id": "nAG2LEYjUTfC",
        "outputId": "c57627d3-98b2-4394-d4e0-875904204197"
      },
      "source": [
        "distances.max()"
      ],
      "execution_count": 92,
      "outputs": [
        {
          "output_type": "execute_result",
          "data": {
            "text/plain": [
              "0.10508102803794016"
            ]
          },
          "metadata": {},
          "execution_count": 92
        }
      ]
    },
    {
      "cell_type": "code",
      "metadata": {
        "colab": {
          "base_uri": "https://localhost:8080/"
        },
        "id": "LU2p6tC9UXMY",
        "outputId": "095343b6-56d9-44cf-b89a-10c10cc9ffca"
      },
      "source": [
        "indices.max()"
      ],
      "execution_count": 93,
      "outputs": [
        {
          "output_type": "execute_result",
          "data": {
            "text/plain": [
              "3590"
            ]
          },
          "metadata": {},
          "execution_count": 93
        }
      ]
    },
    {
      "cell_type": "code",
      "metadata": {
        "colab": {
          "base_uri": "https://localhost:8080/",
          "height": 283
        },
        "id": "lezzfRDeRq4g",
        "outputId": "a7406336-16a4-4092-9c59-a9d22a07c273"
      },
      "source": [
        "distances = np.sort(distances, axis=0)\n",
        "distances = distances[:,1]\n",
        "plt.plot([0,3590],[distances[0], distances[3590]])\n",
        "plt.plot(distances)"
      ],
      "execution_count": 94,
      "outputs": [
        {
          "output_type": "execute_result",
          "data": {
            "text/plain": [
              "[<matplotlib.lines.Line2D at 0x7f1733e52710>]"
            ]
          },
          "metadata": {},
          "execution_count": 94
        },
        {
          "output_type": "display_data",
          "data": {
            "image/png": "[encoded data removed]",
            "text/plain": [
              "<Figure size 432x288 with 1 Axes>"
            ]
          },
          "metadata": {
            "needs_background": "light"
          }
        }
      ]
    },
    {
      "cell_type": "code",
      "metadata": {
        "id": "zFYg8V0dZcgb"
      },
      "source": [
        "# distances = np.sort(distances, axis=0)\n",
        "# distances = distances[:,1]\n",
        "# # plt.plot([distances[0], distances[3590]],[0,3590])\n",
        "# plt.plot(distances)"
      ],
      "execution_count": 95,
      "outputs": []
    },
    {
      "cell_type": "code",
      "metadata": {
        "id": "l6r9nSBvUpw9"
      },
      "source": [
        "import math\n",
        "def calc_distance(x1,y1,a,b,c):\n",
        "  d= abs((a*x1+b*y1+c))/ (math.sqrt(a*a+b*b))\n",
        "  return d"
      ],
      "execution_count": 96,
      "outputs": []
    },
    {
      "cell_type": "code",
      "metadata": {
        "id": "_jtCluagUwzo"
      },
      "source": [
        "K = range(0,3591)"
      ],
      "execution_count": 97,
      "outputs": []
    },
    {
      "cell_type": "code",
      "metadata": {
        "id": "sUfIc1i_Uvny"
      },
      "source": [
        "a = distances[0] -  distances[3590]\n",
        "b = K[3590]-K[0]\n",
        "c1 = K[0] * distances[3590]\n",
        "c2 = K[3590] * distances[0]\n",
        "c = c1-c2"
      ],
      "execution_count": 98,
      "outputs": []
    },
    {
      "cell_type": "code",
      "metadata": {
        "id": "bpOurgYqVI3U"
      },
      "source": [
        "Dist1 =[]\n",
        "\n",
        "for k in range(3591):\n",
        "  Dist1.append(calc_distance(K[k],distances[k],a,b,c))"
      ],
      "execution_count": 99,
      "outputs": []
    },
    {
      "cell_type": "code",
      "metadata": {
        "colab": {
          "base_uri": "https://localhost:8080/",
          "height": 283
        },
        "id": "bP4iLCPcVVR5",
        "outputId": "784974a5-4da0-49d1-84f0-168835cb75a8"
      },
      "source": [
        "plt.plot(K,Dist1)"
      ],
      "execution_count": 100,
      "outputs": [
        {
          "output_type": "execute_result",
          "data": {
            "text/plain": [
              "[<matplotlib.lines.Line2D at 0x7f1733aa5ed0>]"
            ]
          },
          "metadata": {},
          "execution_count": 100
        },
        {
          "output_type": "display_data",
          "data": {
            "image/png": "[encoded data removed]",
            "text/plain": [
              "<Figure size 432x288 with 1 Axes>"
            ]
          },
          "metadata": {
            "needs_background": "light"
          }
        }
      ]
    },
    {
      "cell_type": "code",
      "metadata": {
        "colab": {
          "base_uri": "https://localhost:8080/"
        },
        "id": "5xqkEPAQfS24",
        "outputId": "9b1581ea-76c6-4069-fc04-521e17b66fbb"
      },
      "source": [
        "eps_value = max(Dist1) / 10\n",
        "eps_value"
      ],
      "execution_count": 113,
      "outputs": [
        {
          "output_type": "execute_result",
          "data": {
            "text/plain": [
              "0.0069086696610963835"
            ]
          },
          "metadata": {},
          "execution_count": 113
        }
      ]
    },
    {
      "cell_type": "code",
      "metadata": {
        "colab": {
          "base_uri": "https://localhost:8080/",
          "height": 423
        },
        "id": "1S3Jm_TJh-FT",
        "outputId": "37fb814a-6b6b-4ab2-da75-60db7ac4649f"
      },
      "source": [
        "x1"
      ],
      "execution_count": 102,
      "outputs": [
        {
          "output_type": "execute_result",
          "data": {
            "text/html": [
              "<div>\n",
              "<style scoped>\n",
              "    .dataframe tbody tr th:only-of-type {\n",
              "        vertical-align: middle;\n",
              "    }\n",
              "\n",
              "    .dataframe tbody tr th {\n",
              "        vertical-align: top;\n",
              "    }\n",
              "\n",
              "    .dataframe thead th {\n",
              "        text-align: right;\n",
              "    }\n",
              "</style>\n",
              "<table border=\"1\" class=\"dataframe\">\n",
              "  <thead>\n",
              "    <tr style=\"text-align: right;\">\n",
              "      <th></th>\n",
              "      <th>LATITUDE</th>\n",
              "      <th>LONGITUDE</th>\n",
              "    </tr>\n",
              "  </thead>\n",
              "  <tbody>\n",
              "    <tr>\n",
              "      <th>0</th>\n",
              "      <td>21.169700</td>\n",
              "      <td>72.793300</td>\n",
              "    </tr>\n",
              "    <tr>\n",
              "      <th>1</th>\n",
              "      <td>21.186900</td>\n",
              "      <td>72.816000</td>\n",
              "    </tr>\n",
              "    <tr>\n",
              "      <th>2</th>\n",
              "      <td>21.211302</td>\n",
              "      <td>72.868206</td>\n",
              "    </tr>\n",
              "    <tr>\n",
              "      <th>3</th>\n",
              "      <td>21.139700</td>\n",
              "      <td>72.824100</td>\n",
              "    </tr>\n",
              "    <tr>\n",
              "      <th>4</th>\n",
              "      <td>21.205612</td>\n",
              "      <td>72.804538</td>\n",
              "    </tr>\n",
              "    <tr>\n",
              "      <th>...</th>\n",
              "      <td>...</td>\n",
              "      <td>...</td>\n",
              "    </tr>\n",
              "    <tr>\n",
              "      <th>3586</th>\n",
              "      <td>21.194738</td>\n",
              "      <td>72.805488</td>\n",
              "    </tr>\n",
              "    <tr>\n",
              "      <th>3587</th>\n",
              "      <td>21.195005</td>\n",
              "      <td>72.819476</td>\n",
              "    </tr>\n",
              "    <tr>\n",
              "      <th>3588</th>\n",
              "      <td>21.147368</td>\n",
              "      <td>72.759609</td>\n",
              "    </tr>\n",
              "    <tr>\n",
              "      <th>3589</th>\n",
              "      <td>21.159184</td>\n",
              "      <td>72.806529</td>\n",
              "    </tr>\n",
              "    <tr>\n",
              "      <th>3590</th>\n",
              "      <td>21.207385</td>\n",
              "      <td>72.827242</td>\n",
              "    </tr>\n",
              "  </tbody>\n",
              "</table>\n",
              "<p>3591 rows × 2 columns</p>\n",
              "</div>"
            ],
            "text/plain": [
              "       LATITUDE  LONGITUDE\n",
              "0     21.169700  72.793300\n",
              "1     21.186900  72.816000\n",
              "2     21.211302  72.868206\n",
              "3     21.139700  72.824100\n",
              "4     21.205612  72.804538\n",
              "...         ...        ...\n",
              "3586  21.194738  72.805488\n",
              "3587  21.195005  72.819476\n",
              "3588  21.147368  72.759609\n",
              "3589  21.159184  72.806529\n",
              "3590  21.207385  72.827242\n",
              "\n",
              "[3591 rows x 2 columns]"
            ]
          },
          "metadata": {},
          "execution_count": 102
        }
      ]
    },
    {
      "cell_type": "code",
      "metadata": {
        "id": "qlc9sBB-MV-5"
      },
      "source": [
        "db1 = DBSCAN(eps = eps_value, min_samples= 40)"
      ],
      "execution_count": 130,
      "outputs": []
    },
    {
      "cell_type": "code",
      "metadata": {
        "colab": {
          "base_uri": "https://localhost:8080/"
        },
        "id": "pxo8l2U3Mq_L",
        "outputId": "ac798b33-2b12-46db-d89b-ddbcc756d9eb"
      },
      "source": [
        "ypred = db1.fit_predict(df[['LATITUDE','LONGITUDE']])\n",
        "ypred"
      ],
      "execution_count": 131,
      "outputs": [
        {
          "output_type": "execute_result",
          "data": {
            "text/plain": [
              "array([-1,  0,  0, ..., -1, -1,  0])"
            ]
          },
          "metadata": {},
          "execution_count": 131
        }
      ]
    },
    {
      "cell_type": "code",
      "metadata": {
        "colab": {
          "base_uri": "https://localhost:8080/",
          "height": 423
        },
        "id": "yNi49Y6eNoGu",
        "outputId": "b7b9b6f7-bc18-41bf-977d-5ff3c127ff4a"
      },
      "source": [
        "df_c = df.copy()\n",
        "df_c['group'] = ypred\n",
        "df_c"
      ],
      "execution_count": 132,
      "outputs": [
        {
          "output_type": "execute_result",
          "data": {
            "text/html": [
              "<div>\n",
              "<style scoped>\n",
              "    .dataframe tbody tr th:only-of-type {\n",
              "        vertical-align: middle;\n",
              "    }\n",
              "\n",
              "    .dataframe tbody tr th {\n",
              "        vertical-align: top;\n",
              "    }\n",
              "\n",
              "    .dataframe thead th {\n",
              "        text-align: right;\n",
              "    }\n",
              "</style>\n",
              "<table border=\"1\" class=\"dataframe\">\n",
              "  <thead>\n",
              "    <tr style=\"text-align: right;\">\n",
              "      <th></th>\n",
              "      <th>SR_NO</th>\n",
              "      <th>CITY</th>\n",
              "      <th>ZONE</th>\n",
              "      <th>AGE</th>\n",
              "      <th>GENDER</th>\n",
              "      <th>LATITUDE</th>\n",
              "      <th>LONGITUDE</th>\n",
              "      <th>RESULT</th>\n",
              "      <th>SAMPLE_RESULT</th>\n",
              "      <th>RESULTDATE</th>\n",
              "      <th>group</th>\n",
              "    </tr>\n",
              "  </thead>\n",
              "  <tbody>\n",
              "    <tr>\n",
              "      <th>0</th>\n",
              "      <td>1</td>\n",
              "      <td>Surat</td>\n",
              "      <td>South West Zone</td>\n",
              "      <td>21</td>\n",
              "      <td>F</td>\n",
              "      <td>21.169700</td>\n",
              "      <td>72.793300</td>\n",
              "      <td>Cured/Discharged</td>\n",
              "      <td>Positive</td>\n",
              "      <td>19/03/2020</td>\n",
              "      <td>-1</td>\n",
              "    </tr>\n",
              "    <tr>\n",
              "      <th>1</th>\n",
              "      <td>2</td>\n",
              "      <td>Surat</td>\n",
              "      <td>Central Zone</td>\n",
              "      <td>67</td>\n",
              "      <td>M</td>\n",
              "      <td>21.186900</td>\n",
              "      <td>72.816000</td>\n",
              "      <td>Death</td>\n",
              "      <td>Positive</td>\n",
              "      <td>20/03/2020</td>\n",
              "      <td>0</td>\n",
              "    </tr>\n",
              "    <tr>\n",
              "      <th>2</th>\n",
              "      <td>3</td>\n",
              "      <td>Surat</td>\n",
              "      <td>East Zone  B</td>\n",
              "      <td>50</td>\n",
              "      <td>F</td>\n",
              "      <td>21.211302</td>\n",
              "      <td>72.868206</td>\n",
              "      <td>Cured/Discharged</td>\n",
              "      <td>Positive</td>\n",
              "      <td>10/06/2020</td>\n",
              "      <td>0</td>\n",
              "    </tr>\n",
              "    <tr>\n",
              "      <th>3</th>\n",
              "      <td>4</td>\n",
              "      <td>Surat</td>\n",
              "      <td>South Zone</td>\n",
              "      <td>26</td>\n",
              "      <td>M</td>\n",
              "      <td>21.139700</td>\n",
              "      <td>72.824100</td>\n",
              "      <td>Cured/Discharged</td>\n",
              "      <td>Positive</td>\n",
              "      <td>28/03/2020</td>\n",
              "      <td>-1</td>\n",
              "    </tr>\n",
              "    <tr>\n",
              "      <th>4</th>\n",
              "      <td>5</td>\n",
              "      <td>Surat</td>\n",
              "      <td>West Zone</td>\n",
              "      <td>55</td>\n",
              "      <td>M</td>\n",
              "      <td>21.205612</td>\n",
              "      <td>72.804538</td>\n",
              "      <td>Cured/Discharged</td>\n",
              "      <td>Positive</td>\n",
              "      <td>11/06/2020</td>\n",
              "      <td>2</td>\n",
              "    </tr>\n",
              "    <tr>\n",
              "      <th>...</th>\n",
              "      <td>...</td>\n",
              "      <td>...</td>\n",
              "      <td>...</td>\n",
              "      <td>...</td>\n",
              "      <td>...</td>\n",
              "      <td>...</td>\n",
              "      <td>...</td>\n",
              "      <td>...</td>\n",
              "      <td>...</td>\n",
              "      <td>...</td>\n",
              "      <td>...</td>\n",
              "    </tr>\n",
              "    <tr>\n",
              "      <th>3586</th>\n",
              "      <td>3587</td>\n",
              "      <td>Surat</td>\n",
              "      <td>West Zone</td>\n",
              "      <td>62</td>\n",
              "      <td>F</td>\n",
              "      <td>21.194738</td>\n",
              "      <td>72.805488</td>\n",
              "      <td>Death</td>\n",
              "      <td>Positive</td>\n",
              "      <td>07/07/2020</td>\n",
              "      <td>-1</td>\n",
              "    </tr>\n",
              "    <tr>\n",
              "      <th>3587</th>\n",
              "      <td>3588</td>\n",
              "      <td>Surat</td>\n",
              "      <td>Central Zone</td>\n",
              "      <td>63</td>\n",
              "      <td>M</td>\n",
              "      <td>21.195005</td>\n",
              "      <td>72.819476</td>\n",
              "      <td>Death</td>\n",
              "      <td>Positive</td>\n",
              "      <td>06/07/2020</td>\n",
              "      <td>0</td>\n",
              "    </tr>\n",
              "    <tr>\n",
              "      <th>3588</th>\n",
              "      <td>3589</td>\n",
              "      <td>Surat</td>\n",
              "      <td>South West Zone</td>\n",
              "      <td>82</td>\n",
              "      <td>M</td>\n",
              "      <td>21.147368</td>\n",
              "      <td>72.759609</td>\n",
              "      <td>Death</td>\n",
              "      <td>Positive</td>\n",
              "      <td>07/07/2020</td>\n",
              "      <td>-1</td>\n",
              "    </tr>\n",
              "    <tr>\n",
              "      <th>3589</th>\n",
              "      <td>3590</td>\n",
              "      <td>Surat</td>\n",
              "      <td>South West Zone</td>\n",
              "      <td>47</td>\n",
              "      <td>M</td>\n",
              "      <td>21.159184</td>\n",
              "      <td>72.806529</td>\n",
              "      <td>Death</td>\n",
              "      <td>Positive</td>\n",
              "      <td>06/07/2020</td>\n",
              "      <td>-1</td>\n",
              "    </tr>\n",
              "    <tr>\n",
              "      <th>3590</th>\n",
              "      <td>3591</td>\n",
              "      <td>Surat</td>\n",
              "      <td>Central Zone</td>\n",
              "      <td>42</td>\n",
              "      <td>F</td>\n",
              "      <td>21.207385</td>\n",
              "      <td>72.827242</td>\n",
              "      <td>Death</td>\n",
              "      <td>Positive</td>\n",
              "      <td>07/07/2020</td>\n",
              "      <td>0</td>\n",
              "    </tr>\n",
              "  </tbody>\n",
              "</table>\n",
              "<p>3591 rows × 11 columns</p>\n",
              "</div>"
            ],
            "text/plain": [
              "      SR_NO   CITY             ZONE  ...  SAMPLE_RESULT  RESULTDATE  group\n",
              "0         1  Surat  South West Zone  ...       Positive  19/03/2020     -1\n",
              "1         2  Surat     Central Zone  ...       Positive  20/03/2020      0\n",
              "2         3  Surat     East Zone  B  ...       Positive  10/06/2020      0\n",
              "3         4  Surat       South Zone  ...       Positive  28/03/2020     -1\n",
              "4         5  Surat        West Zone  ...       Positive  11/06/2020      2\n",
              "...     ...    ...              ...  ...            ...         ...    ...\n",
              "3586   3587  Surat        West Zone  ...       Positive  07/07/2020     -1\n",
              "3587   3588  Surat     Central Zone  ...       Positive  06/07/2020      0\n",
              "3588   3589  Surat  South West Zone  ...       Positive  07/07/2020     -1\n",
              "3589   3590  Surat  South West Zone  ...       Positive  06/07/2020     -1\n",
              "3590   3591  Surat     Central Zone  ...       Positive  07/07/2020      0\n",
              "\n",
              "[3591 rows x 11 columns]"
            ]
          },
          "metadata": {},
          "execution_count": 132
        }
      ]
    },
    {
      "cell_type": "code",
      "metadata": {
        "colab": {
          "base_uri": "https://localhost:8080/"
        },
        "id": "rWntHy4LLDjG",
        "outputId": "07bf0d8f-e1e9-4e26-f8c9-0da714c82237"
      },
      "source": [
        "n_clu = ypred.max()+1\n",
        "n_clu"
      ],
      "execution_count": 133,
      "outputs": [
        {
          "output_type": "execute_result",
          "data": {
            "text/plain": [
              "4"
            ]
          },
          "metadata": {},
          "execution_count": 133
        }
      ]
    },
    {
      "cell_type": "code",
      "metadata": {
        "id": "6EeyKXrdL7fE"
      },
      "source": [
        "color = ['green','red','yellow','purple','black']"
      ],
      "execution_count": 134,
      "outputs": []
    },
    {
      "cell_type": "code",
      "metadata": {
        "colab": {
          "base_uri": "https://localhost:8080/",
          "height": 302
        },
        "id": "e9kn63cqLY4A",
        "outputId": "47592a08-f698-4dd0-db5d-0f03f4da906d"
      },
      "source": [
        "dfm1 = df_c[df_c.group ==-1]\n",
        "\n",
        "for i in range(n_clu):\n",
        "  cl = df_c[df_c.group == i]\n",
        "  plt.scatter(cl['LATITUDE'],cl['LONGITUDE'],color = color[i])\n",
        "\n",
        "\n",
        "plt.scatter(dfm1['LATITUDE'],dfm1['LONGITUDE'], color = 'blue')\n",
        "plt.legend()"
      ],
      "execution_count": 135,
      "outputs": [
        {
          "output_type": "stream",
          "name": "stderr",
          "text": [
            "No handles with labels found to put in legend.\n"
          ]
        },
        {
          "output_type": "execute_result",
          "data": {
            "text/plain": [
              "<matplotlib.legend.Legend at 0x7f173383de10>"
            ]
          },
          "metadata": {},
          "execution_count": 135
        },
        {
          "output_type": "display_data",
          "data": {
            "image/png": "[encoded data removed]",
            "text/plain": [
              "<Figure size 432x288 with 1 Axes>"
            ]
          },
          "metadata": {
            "needs_background": "light"
          }
        }
      ]
    },
    {
      "cell_type": "code",
      "metadata": {
        "id": "Ao7HCwVFNTUi"
      },
      "source": [
        "# df0 = df_c[df_c.group ==0]\n",
        "# df1 = df_c[df_c.group ==1]\n",
        "# dfm1 = df_c[df_c.group ==-1]\n",
        "# df2 = df_c[df_c.group ==2]\n",
        "# df3 = df_c[df_c.group ==3]\n",
        "\n",
        "# plt.scatter(df0['LATITUDE'],df0['LONGITUDE'], color = 'green')\n",
        "# plt.scatter(df1['LATITUDE'],df1['LONGITUDE'], color = 'red')\n",
        "# plt.scatter(dfm1['LATITUDE'],dfm1['LONGITUDE'], color = 'blue')\n",
        "# plt.scatter(df2['LATITUDE'],df2['LONGITUDE'], color = 'yellow')\n",
        "# plt.scatter(df3['LATITUDE'],df3['LONGITUDE'], color = 'purple')\n",
        "# plt.legend()"
      ],
      "execution_count": 129,
      "outputs": []
    },
    {
      "cell_type": "code",
      "metadata": {
        "id": "ioM8G1t_lpWK"
      },
      "source": [
        ""
      ],
      "execution_count": 102,
      "outputs": []
    },
    {
      "cell_type": "markdown",
      "metadata": {
        "id": "4PQXSmAnikCr"
      },
      "source": [
        "<h1>Prediction</h1>"
      ]
    },
    {
      "cell_type": "code",
      "metadata": {
        "colab": {
          "base_uri": "https://localhost:8080/"
        },
        "id": "bomKOItWip6E",
        "outputId": "6cad6b8a-9141-4af1-e1e5-fbd01af806b3"
      },
      "source": [
        "from sklearn.neighbors import KNeighborsClassifier\n",
        "knn = KNeighborsClassifier(n_neighbors=3)\n",
        "knn.fit(x1,ypred)"
      ],
      "execution_count": 103,
      "outputs": [
        {
          "output_type": "execute_result",
          "data": {
            "text/plain": [
              "KNeighborsClassifier(n_neighbors=3)"
            ]
          },
          "metadata": {},
          "execution_count": 103
        }
      ]
    },
    {
      "cell_type": "code",
      "metadata": {
        "colab": {
          "base_uri": "https://localhost:8080/"
        },
        "id": "k4-LhO0Gl5vM",
        "outputId": "7ecebd2d-c1cb-4929-ff2e-117bb15b79f3"
      },
      "source": [
        "knn.predict([[21.195005,72.819476\t]])"
      ],
      "execution_count": 104,
      "outputs": [
        {
          "output_type": "stream",
          "name": "stderr",
          "text": [
            "/usr/local/lib/python3.7/dist-packages/sklearn/base.py:446: UserWarning: X does not have valid feature names, but KNeighborsClassifier was fitted with feature names\n",
            "  \"X does not have valid feature names, but\"\n"
          ]
        },
        {
          "output_type": "execute_result",
          "data": {
            "text/plain": [
              "array([0])"
            ]
          },
          "metadata": {},
          "execution_count": 104
        }
      ]
    },
    {
      "cell_type": "code",
      "metadata": {
        "colab": {
          "base_uri": "https://localhost:8080/"
        },
        "id": "8jGylBvYmHjA",
        "outputId": "3da19061-4622-4e78-c232-97d307d6e4cc"
      },
      "source": [
        "knn.predict([[21.194738,72.805488]])"
      ],
      "execution_count": 105,
      "outputs": [
        {
          "output_type": "stream",
          "name": "stderr",
          "text": [
            "/usr/local/lib/python3.7/dist-packages/sklearn/base.py:446: UserWarning: X does not have valid feature names, but KNeighborsClassifier was fitted with feature names\n",
            "  \"X does not have valid feature names, but\"\n"
          ]
        },
        {
          "output_type": "execute_result",
          "data": {
            "text/plain": [
              "array([-1])"
            ]
          },
          "metadata": {},
          "execution_count": 105
        }
      ]
    },
    {
      "cell_type": "code",
      "metadata": {
        "id": "Jz7ejb78ma1A"
      },
      "source": [
        "# zone = knn.predict([[21.194738,72.805488]])"
      ],
      "execution_count": 106,
      "outputs": []
    },
    {
      "cell_type": "code",
      "metadata": {
        "id": "CgkPqvFSoEem"
      },
      "source": [
        "\n",
        "inp_LATITUDE = float(input(\"Enter Latitude of your Location \"))\n",
        "inp_LONGITUDE = float(input(\"Enter Longitude of your Location\"))\n",
        "\n",
        "zone = knn.predict([[inp_LATITUDE,inp_LONGITUDE]])\n",
        "print(zone)\n",
        "\n",
        "if zone == [-1]:\n",
        "  print(\"You are IN SAFE ZONE - But still you need to take care\")\n",
        "else :\n",
        "  print(\"Be Safe - You are NOT IN SAFE ZONE \")\n",
        "\n"
      ],
      "execution_count": null,
      "outputs": []
    },
    {
      "cell_type": "code",
      "metadata": {
        "id": "WRZVRI4ypDqs"
      },
      "source": [
        ""
      ],
      "execution_count": 107,
      "outputs": []
    }
  ]
}